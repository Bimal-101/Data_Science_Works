{
 "cells": [
  {
   "cell_type": "markdown",
   "id": "f999f5fc",
   "metadata": {},
   "source": [
    "# Week 8 : Case Study 4 - Bimal H M"
   ]
  },
  {
   "cell_type": "markdown",
   "id": "2e56de05",
   "metadata": {},
   "source": [
    "## Testing of Hypothesis"
   ]
  },
  {
   "cell_type": "markdown",
   "id": "4fd160df",
   "metadata": {},
   "source": [
    "### STEP 1 : Importing all Necessary Libraries in to Notebook"
   ]
  },
  {
   "cell_type": "code",
   "execution_count": 1,
   "id": "e4d4e440",
   "metadata": {},
   "outputs": [],
   "source": [
    "import pandas as pd\n",
    "import numpy as np\n",
    "import scipy.stats as stats"
   ]
  },
  {
   "cell_type": "markdown",
   "id": "0565d871",
   "metadata": {},
   "source": [
    "### STEP 2 : Reading the Dataset in to Notebook"
   ]
  },
  {
   "cell_type": "code",
   "execution_count": 2,
   "id": "b8f35af6",
   "metadata": {},
   "outputs": [],
   "source": [
    "data= pd.read_csv('Sales_add.csv')"
   ]
  },
  {
   "cell_type": "markdown",
   "id": "2f5a31ee",
   "metadata": {},
   "source": [
    "### STEP 3 : Checking the Dataset"
   ]
  },
  {
   "cell_type": "markdown",
   "id": "97476d39",
   "metadata": {},
   "source": [
    "#### A) Displaying Dataset Info"
   ]
  },
  {
   "cell_type": "code",
   "execution_count": 3,
   "id": "f19cf176",
   "metadata": {},
   "outputs": [
    {
     "name": "stdout",
     "output_type": "stream",
     "text": [
      "<class 'pandas.core.frame.DataFrame'>\n",
      "RangeIndex: 22 entries, 0 to 21\n",
      "Data columns (total 5 columns):\n",
      " #   Column                          Non-Null Count  Dtype \n",
      "---  ------                          --------------  ----- \n",
      " 0   Month                           22 non-null     object\n",
      " 1   Region                          22 non-null     object\n",
      " 2   Manager                         22 non-null     object\n",
      " 3   Sales_before_digital_add(in $)  22 non-null     int64 \n",
      " 4   Sales_After_digital_add(in $)   22 non-null     int64 \n",
      "dtypes: int64(2), object(3)\n",
      "memory usage: 1008.0+ bytes\n"
     ]
    }
   ],
   "source": [
    "data.info()"
   ]
  },
  {
   "cell_type": "markdown",
   "id": "79b5f6a4",
   "metadata": {},
   "source": [
    "#### B) Displaying First few Rows"
   ]
  },
  {
   "cell_type": "code",
   "execution_count": 4,
   "id": "23f7defd",
   "metadata": {},
   "outputs": [
    {
     "data": {
      "text/html": [
       "<div>\n",
       "<style scoped>\n",
       "    .dataframe tbody tr th:only-of-type {\n",
       "        vertical-align: middle;\n",
       "    }\n",
       "\n",
       "    .dataframe tbody tr th {\n",
       "        vertical-align: top;\n",
       "    }\n",
       "\n",
       "    .dataframe thead th {\n",
       "        text-align: right;\n",
       "    }\n",
       "</style>\n",
       "<table border=\"1\" class=\"dataframe\">\n",
       "  <thead>\n",
       "    <tr style=\"text-align: right;\">\n",
       "      <th></th>\n",
       "      <th>Month</th>\n",
       "      <th>Region</th>\n",
       "      <th>Manager</th>\n",
       "      <th>Sales_before_digital_add(in $)</th>\n",
       "      <th>Sales_After_digital_add(in $)</th>\n",
       "    </tr>\n",
       "  </thead>\n",
       "  <tbody>\n",
       "    <tr>\n",
       "      <th>0</th>\n",
       "      <td>Month-1</td>\n",
       "      <td>Region - A</td>\n",
       "      <td>Manager - A</td>\n",
       "      <td>132921</td>\n",
       "      <td>270390</td>\n",
       "    </tr>\n",
       "    <tr>\n",
       "      <th>1</th>\n",
       "      <td>Month-2</td>\n",
       "      <td>Region - A</td>\n",
       "      <td>Manager - C</td>\n",
       "      <td>149559</td>\n",
       "      <td>223334</td>\n",
       "    </tr>\n",
       "    <tr>\n",
       "      <th>2</th>\n",
       "      <td>Month-3</td>\n",
       "      <td>Region - B</td>\n",
       "      <td>Manager - A</td>\n",
       "      <td>146278</td>\n",
       "      <td>244243</td>\n",
       "    </tr>\n",
       "    <tr>\n",
       "      <th>3</th>\n",
       "      <td>Month-4</td>\n",
       "      <td>Region - B</td>\n",
       "      <td>Manager - B</td>\n",
       "      <td>152167</td>\n",
       "      <td>231808</td>\n",
       "    </tr>\n",
       "    <tr>\n",
       "      <th>4</th>\n",
       "      <td>Month-5</td>\n",
       "      <td>Region - C</td>\n",
       "      <td>Manager - B</td>\n",
       "      <td>159525</td>\n",
       "      <td>258402</td>\n",
       "    </tr>\n",
       "  </tbody>\n",
       "</table>\n",
       "</div>"
      ],
      "text/plain": [
       "     Month      Region      Manager  Sales_before_digital_add(in $)  \\\n",
       "0  Month-1  Region - A  Manager - A                          132921   \n",
       "1  Month-2  Region - A  Manager - C                          149559   \n",
       "2  Month-3  Region - B  Manager - A                          146278   \n",
       "3  Month-4  Region - B  Manager - B                          152167   \n",
       "4  Month-5  Region - C  Manager - B                          159525   \n",
       "\n",
       "   Sales_After_digital_add(in $)  \n",
       "0                         270390  \n",
       "1                         223334  \n",
       "2                         244243  \n",
       "3                         231808  \n",
       "4                         258402  "
      ]
     },
     "execution_count": 4,
     "metadata": {},
     "output_type": "execute_result"
    }
   ],
   "source": [
    "data.head()"
   ]
  },
  {
   "cell_type": "markdown",
   "id": "9d4f7a73",
   "metadata": {},
   "source": [
    "#### C) Taking a descriptive analysis on dataset"
   ]
  },
  {
   "cell_type": "code",
   "execution_count": 5,
   "id": "185bab43",
   "metadata": {},
   "outputs": [
    {
     "data": {
      "text/html": [
       "<div>\n",
       "<style scoped>\n",
       "    .dataframe tbody tr th:only-of-type {\n",
       "        vertical-align: middle;\n",
       "    }\n",
       "\n",
       "    .dataframe tbody tr th {\n",
       "        vertical-align: top;\n",
       "    }\n",
       "\n",
       "    .dataframe thead th {\n",
       "        text-align: right;\n",
       "    }\n",
       "</style>\n",
       "<table border=\"1\" class=\"dataframe\">\n",
       "  <thead>\n",
       "    <tr style=\"text-align: right;\">\n",
       "      <th></th>\n",
       "      <th>Sales_before_digital_add(in $)</th>\n",
       "      <th>Sales_After_digital_add(in $)</th>\n",
       "    </tr>\n",
       "  </thead>\n",
       "  <tbody>\n",
       "    <tr>\n",
       "      <th>count</th>\n",
       "      <td>22.000000</td>\n",
       "      <td>22.000000</td>\n",
       "    </tr>\n",
       "    <tr>\n",
       "      <th>mean</th>\n",
       "      <td>149239.954545</td>\n",
       "      <td>231123.727273</td>\n",
       "    </tr>\n",
       "    <tr>\n",
       "      <th>std</th>\n",
       "      <td>14844.042921</td>\n",
       "      <td>25556.777061</td>\n",
       "    </tr>\n",
       "    <tr>\n",
       "      <th>min</th>\n",
       "      <td>130263.000000</td>\n",
       "      <td>187305.000000</td>\n",
       "    </tr>\n",
       "    <tr>\n",
       "      <th>25%</th>\n",
       "      <td>138087.750000</td>\n",
       "      <td>214960.750000</td>\n",
       "    </tr>\n",
       "    <tr>\n",
       "      <th>50%</th>\n",
       "      <td>147444.000000</td>\n",
       "      <td>229986.500000</td>\n",
       "    </tr>\n",
       "    <tr>\n",
       "      <th>75%</th>\n",
       "      <td>157627.500000</td>\n",
       "      <td>250909.000000</td>\n",
       "    </tr>\n",
       "    <tr>\n",
       "      <th>max</th>\n",
       "      <td>178939.000000</td>\n",
       "      <td>276279.000000</td>\n",
       "    </tr>\n",
       "  </tbody>\n",
       "</table>\n",
       "</div>"
      ],
      "text/plain": [
       "       Sales_before_digital_add(in $)  Sales_After_digital_add(in $)\n",
       "count                       22.000000                      22.000000\n",
       "mean                    149239.954545                  231123.727273\n",
       "std                      14844.042921                   25556.777061\n",
       "min                     130263.000000                  187305.000000\n",
       "25%                     138087.750000                  214960.750000\n",
       "50%                     147444.000000                  229986.500000\n",
       "75%                     157627.500000                  250909.000000\n",
       "max                     178939.000000                  276279.000000"
      ]
     },
     "execution_count": 5,
     "metadata": {},
     "output_type": "execute_result"
    }
   ],
   "source": [
    "data.describe()"
   ]
  },
  {
   "cell_type": "markdown",
   "id": "04611412",
   "metadata": {},
   "source": [
    "### Q1 : The company wishes to clarify whether there is any increase in sales after stepping into digital marketing."
   ]
  },
  {
   "cell_type": "markdown",
   "id": "6b1dd27b",
   "metadata": {},
   "source": [
    "<b> To check whether there is an increase in sales or not, we can conduct a paired t_test on Sales_before_digital_add and Sales_After_digital_add <b>"
   ]
  },
  {
   "cell_type": "markdown",
   "id": "569113e9",
   "metadata": {},
   "source": [
    "#### A) Stating of Hypothesis and setting Significance Level\n",
    "<pre>Let\n",
    "\n",
    "H0 (Null Hypothesis)        : There is no significant difference in sales even after entering into digital marketing.\n",
    "\n",
    "H1 (Alternative Hypothesis) : There is a significant increase in sales after stepping into digital marketing.\n",
    "\n",
    "------\n",
    "\n",
    "and Let the Level of significance be <b> &alpha; = 0.05 </b></pre>"
   ]
  },
  {
   "cell_type": "markdown",
   "id": "64a5d978",
   "metadata": {},
   "source": [
    "#### B) Calculating test statistic and corresponding P-Value"
   ]
  },
  {
   "cell_type": "code",
   "execution_count": 6,
   "id": "00dc9576",
   "metadata": {},
   "outputs": [
    {
     "data": {
      "text/plain": [
       "Ttest_relResult(statistic=12.09070525287017, pvalue=3.168333502287889e-11)"
      ]
     },
     "execution_count": 6,
     "metadata": {},
     "output_type": "execute_result"
    }
   ],
   "source": [
    "stats.ttest_rel(data['Sales_After_digital_add(in $)'],data['Sales_before_digital_add(in $)'],alternative='greater')"
   ]
  },
  {
   "cell_type": "markdown",
   "id": "93792b44",
   "metadata": {},
   "source": [
    "#### C) Conclusion"
   ]
  },
  {
   "cell_type": "markdown",
   "id": "bf18b01e",
   "metadata": {},
   "source": [
    "since our calculated p value = 3.168 * 10^(-11) is less than our hypothesised p value = 0.05 , That is    P_calculated < P_assumed , Hence at 0.05 level of significance we can reject our Null Hypothesis (H0) and may accept H1.\n",
    "\n",
    "Hence we can conclude that there is a significant increase in sales after stepping in to digital marketing."
   ]
  },
  {
   "cell_type": "markdown",
   "id": "8b918a7f",
   "metadata": {},
   "source": [
    "### Q2 : The company needs to check whether there is any dependency between the features “Region” and “Manager”"
   ]
  },
  {
   "cell_type": "markdown",
   "id": "7fcc00aa",
   "metadata": {},
   "source": [
    "<b> To check whether there is a dependency between the features 'Region' and ' Manager' we can conduct a Chi-square test of independence of variables with a contingency table </b>"
   ]
  },
  {
   "cell_type": "markdown",
   "id": "4ccd09aa",
   "metadata": {},
   "source": [
    "#### A) Stating of Hypothesis and setting Significance Level\n",
    "<pre>Let\n",
    "\n",
    "H0 (Null Hypothesis)        : There is no dependency between Region and Manager\n",
    "\n",
    "H1 (Alternative Hypothesis) : There is a relationship between Region and Manager\n",
    "\n",
    "------\n",
    "\n",
    "and Let the Level of significance be <b> &alpha; = 0.05 </b></pre>"
   ]
  },
  {
   "cell_type": "markdown",
   "id": "75bc25b2",
   "metadata": {},
   "source": [
    "#### B) Creating a contingency table of Region and Manager"
   ]
  },
  {
   "cell_type": "code",
   "execution_count": 7,
   "id": "e51df5fb",
   "metadata": {},
   "outputs": [],
   "source": [
    "table = pd.crosstab(data.Manager,data.Region)"
   ]
  },
  {
   "cell_type": "code",
   "execution_count": 8,
   "id": "348499ff",
   "metadata": {},
   "outputs": [
    {
     "data": {
      "text/html": [
       "<div>\n",
       "<style scoped>\n",
       "    .dataframe tbody tr th:only-of-type {\n",
       "        vertical-align: middle;\n",
       "    }\n",
       "\n",
       "    .dataframe tbody tr th {\n",
       "        vertical-align: top;\n",
       "    }\n",
       "\n",
       "    .dataframe thead th {\n",
       "        text-align: right;\n",
       "    }\n",
       "</style>\n",
       "<table border=\"1\" class=\"dataframe\">\n",
       "  <thead>\n",
       "    <tr style=\"text-align: right;\">\n",
       "      <th>Region</th>\n",
       "      <th>Region - A</th>\n",
       "      <th>Region - B</th>\n",
       "      <th>Region - C</th>\n",
       "    </tr>\n",
       "    <tr>\n",
       "      <th>Manager</th>\n",
       "      <th></th>\n",
       "      <th></th>\n",
       "      <th></th>\n",
       "    </tr>\n",
       "  </thead>\n",
       "  <tbody>\n",
       "    <tr>\n",
       "      <th>Manager - A</th>\n",
       "      <td>4</td>\n",
       "      <td>4</td>\n",
       "      <td>1</td>\n",
       "    </tr>\n",
       "    <tr>\n",
       "      <th>Manager - B</th>\n",
       "      <td>3</td>\n",
       "      <td>1</td>\n",
       "      <td>3</td>\n",
       "    </tr>\n",
       "    <tr>\n",
       "      <th>Manager - C</th>\n",
       "      <td>3</td>\n",
       "      <td>2</td>\n",
       "      <td>1</td>\n",
       "    </tr>\n",
       "  </tbody>\n",
       "</table>\n",
       "</div>"
      ],
      "text/plain": [
       "Region       Region - A  Region - B  Region - C\n",
       "Manager                                        \n",
       "Manager - A           4           4           1\n",
       "Manager - B           3           1           3\n",
       "Manager - C           3           2           1"
      ]
     },
     "execution_count": 8,
     "metadata": {},
     "output_type": "execute_result"
    }
   ],
   "source": [
    "table                    #Our Observed Values"
   ]
  },
  {
   "cell_type": "markdown",
   "id": "ef6294bb",
   "metadata": {},
   "source": [
    "#### C) Calculating test statistic and corresponding P-Value"
   ]
  },
  {
   "cell_type": "code",
   "execution_count": 9,
   "id": "e04a8db7",
   "metadata": {},
   "outputs": [
    {
     "data": {
      "text/plain": [
       "(3.050566893424036,\n",
       " 0.5493991051158094,\n",
       " 4,\n",
       " array([[4.09090909, 2.86363636, 2.04545455],\n",
       "        [3.18181818, 2.22727273, 1.59090909],\n",
       "        [2.72727273, 1.90909091, 1.36363636]]))"
      ]
     },
     "execution_count": 9,
     "metadata": {},
     "output_type": "execute_result"
    }
   ],
   "source": [
    "stats.chi2_contingency(table)"
   ]
  },
  {
   "cell_type": "markdown",
   "id": "9a0427ad",
   "metadata": {},
   "source": [
    "#### D) Conclusion"
   ]
  },
  {
   "cell_type": "markdown",
   "id": "15ba14c7",
   "metadata": {},
   "source": [
    "since our calculated p value = 0.549399105 is greter than our hypothesised p value = 0.05 , That is P_calculated > P_assumed , Hence at 0.05 level of significance and 4 defrees of freedom we can not reject our Null Hypothesis (H0), thus we may accept our H0 at 0.05 level of significance.\n",
    "Hence we can conclude that there is no dependency between the features Region and Manager."
   ]
  }
 ],
 "metadata": {
  "kernelspec": {
   "display_name": "Python 3",
   "language": "python",
   "name": "python3"
  },
  "language_info": {
   "codemirror_mode": {
    "name": "ipython",
    "version": 3
   },
   "file_extension": ".py",
   "mimetype": "text/x-python",
   "name": "python",
   "nbconvert_exporter": "python",
   "pygments_lexer": "ipython3",
   "version": "3.8.8"
  }
 },
 "nbformat": 4,
 "nbformat_minor": 5
}

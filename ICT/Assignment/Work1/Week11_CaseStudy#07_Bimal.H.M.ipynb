{
 "cells": [
  {
   "cell_type": "markdown",
   "id": "b0b0d288",
   "metadata": {},
   "source": [
    "# Week 11 : Case Study 7 - Bimal H M"
   ]
  },
  {
   "cell_type": "markdown",
   "id": "fdce1d9a",
   "metadata": {},
   "source": [
    "## Supervised Learning - IRIS Dataset"
   ]
  },
  {
   "cell_type": "markdown",
   "id": "47c1b111",
   "metadata": {},
   "source": [
    "### STEP 1 : Importing all Necessary Libraries in to Notebook"
   ]
  },
  {
   "cell_type": "code",
   "execution_count": 1,
   "id": "da171f9e",
   "metadata": {},
   "outputs": [],
   "source": [
    "import pandas as pd\n",
    "import numpy as np\n",
    "import matplotlib.pyplot as plt\n",
    "import seaborn as sns"
   ]
  },
  {
   "cell_type": "markdown",
   "id": "691800b6",
   "metadata": {},
   "source": [
    "## Q1 : Read the dataset to the python environment"
   ]
  },
  {
   "cell_type": "code",
   "execution_count": 2,
   "id": "fdae95ff",
   "metadata": {},
   "outputs": [],
   "source": [
    "iris = pd.read_excel('iris.xls')"
   ]
  },
  {
   "cell_type": "markdown",
   "id": "6b59d020",
   "metadata": {},
   "source": [
    "#### A) Displaying First few Rows"
   ]
  },
  {
   "cell_type": "code",
   "execution_count": 3,
   "id": "2ba5b1a8",
   "metadata": {},
   "outputs": [
    {
     "data": {
      "text/html": [
       "<div>\n",
       "<style scoped>\n",
       "    .dataframe tbody tr th:only-of-type {\n",
       "        vertical-align: middle;\n",
       "    }\n",
       "\n",
       "    .dataframe tbody tr th {\n",
       "        vertical-align: top;\n",
       "    }\n",
       "\n",
       "    .dataframe thead th {\n",
       "        text-align: right;\n",
       "    }\n",
       "</style>\n",
       "<table border=\"1\" class=\"dataframe\">\n",
       "  <thead>\n",
       "    <tr style=\"text-align: right;\">\n",
       "      <th></th>\n",
       "      <th>SL</th>\n",
       "      <th>SW</th>\n",
       "      <th>PL</th>\n",
       "      <th>PW</th>\n",
       "      <th>Classification</th>\n",
       "    </tr>\n",
       "  </thead>\n",
       "  <tbody>\n",
       "    <tr>\n",
       "      <th>0</th>\n",
       "      <td>5.1</td>\n",
       "      <td>3.5</td>\n",
       "      <td>1.4</td>\n",
       "      <td>0.2</td>\n",
       "      <td>Iris-setosa</td>\n",
       "    </tr>\n",
       "    <tr>\n",
       "      <th>1</th>\n",
       "      <td>4.9</td>\n",
       "      <td>3.0</td>\n",
       "      <td>1.4</td>\n",
       "      <td>0.2</td>\n",
       "      <td>Iris-setosa</td>\n",
       "    </tr>\n",
       "    <tr>\n",
       "      <th>2</th>\n",
       "      <td>NaN</td>\n",
       "      <td>3.2</td>\n",
       "      <td>1.3</td>\n",
       "      <td>0.2</td>\n",
       "      <td>Iris-setosa</td>\n",
       "    </tr>\n",
       "    <tr>\n",
       "      <th>3</th>\n",
       "      <td>4.6</td>\n",
       "      <td>3.1</td>\n",
       "      <td>1.5</td>\n",
       "      <td>0.2</td>\n",
       "      <td>Iris-setosa</td>\n",
       "    </tr>\n",
       "    <tr>\n",
       "      <th>4</th>\n",
       "      <td>5.0</td>\n",
       "      <td>3.6</td>\n",
       "      <td>1.4</td>\n",
       "      <td>0.2</td>\n",
       "      <td>Iris-setosa</td>\n",
       "    </tr>\n",
       "  </tbody>\n",
       "</table>\n",
       "</div>"
      ],
      "text/plain": [
       "    SL   SW   PL   PW Classification\n",
       "0  5.1  3.5  1.4  0.2    Iris-setosa\n",
       "1  4.9  3.0  1.4  0.2    Iris-setosa\n",
       "2  NaN  3.2  1.3  0.2    Iris-setosa\n",
       "3  4.6  3.1  1.5  0.2    Iris-setosa\n",
       "4  5.0  3.6  1.4  0.2    Iris-setosa"
      ]
     },
     "execution_count": 3,
     "metadata": {},
     "output_type": "execute_result"
    }
   ],
   "source": [
    "iris.head()"
   ]
  },
  {
   "cell_type": "markdown",
   "id": "ad1d1897",
   "metadata": {},
   "source": [
    "## Q2 : Do necessary pre-processing steps."
   ]
  },
  {
   "cell_type": "markdown",
   "id": "68d38359",
   "metadata": {},
   "source": [
    "### A) Check the basic details of the dataset"
   ]
  },
  {
   "cell_type": "code",
   "execution_count": 4,
   "id": "52683d78",
   "metadata": {},
   "outputs": [
    {
     "name": "stdout",
     "output_type": "stream",
     "text": [
      "<class 'pandas.core.frame.DataFrame'>\n",
      "RangeIndex: 150 entries, 0 to 149\n",
      "Data columns (total 5 columns):\n",
      " #   Column          Non-Null Count  Dtype  \n",
      "---  ------          --------------  -----  \n",
      " 0   SL              143 non-null    float64\n",
      " 1   SW              144 non-null    float64\n",
      " 2   PL              144 non-null    float64\n",
      " 3   PW              150 non-null    float64\n",
      " 4   Classification  150 non-null    object \n",
      "dtypes: float64(4), object(1)\n",
      "memory usage: 6.0+ KB\n"
     ]
    }
   ],
   "source": [
    "iris.info()"
   ]
  },
  {
   "cell_type": "markdown",
   "id": "ea52cf84",
   "metadata": {},
   "source": [
    "### B) Checking for summary statistics"
   ]
  },
  {
   "cell_type": "code",
   "execution_count": 5,
   "id": "f8d171f7",
   "metadata": {},
   "outputs": [
    {
     "data": {
      "text/html": [
       "<div>\n",
       "<style scoped>\n",
       "    .dataframe tbody tr th:only-of-type {\n",
       "        vertical-align: middle;\n",
       "    }\n",
       "\n",
       "    .dataframe tbody tr th {\n",
       "        vertical-align: top;\n",
       "    }\n",
       "\n",
       "    .dataframe thead th {\n",
       "        text-align: right;\n",
       "    }\n",
       "</style>\n",
       "<table border=\"1\" class=\"dataframe\">\n",
       "  <thead>\n",
       "    <tr style=\"text-align: right;\">\n",
       "      <th></th>\n",
       "      <th>SL</th>\n",
       "      <th>SW</th>\n",
       "      <th>PL</th>\n",
       "      <th>PW</th>\n",
       "    </tr>\n",
       "  </thead>\n",
       "  <tbody>\n",
       "    <tr>\n",
       "      <th>count</th>\n",
       "      <td>143.000000</td>\n",
       "      <td>144.000000</td>\n",
       "      <td>144.000000</td>\n",
       "      <td>150.000000</td>\n",
       "    </tr>\n",
       "    <tr>\n",
       "      <th>mean</th>\n",
       "      <td>5.855944</td>\n",
       "      <td>3.049306</td>\n",
       "      <td>3.756250</td>\n",
       "      <td>1.198667</td>\n",
       "    </tr>\n",
       "    <tr>\n",
       "      <th>std</th>\n",
       "      <td>0.828168</td>\n",
       "      <td>0.430644</td>\n",
       "      <td>1.761306</td>\n",
       "      <td>0.763161</td>\n",
       "    </tr>\n",
       "    <tr>\n",
       "      <th>min</th>\n",
       "      <td>4.300000</td>\n",
       "      <td>2.000000</td>\n",
       "      <td>1.000000</td>\n",
       "      <td>0.100000</td>\n",
       "    </tr>\n",
       "    <tr>\n",
       "      <th>25%</th>\n",
       "      <td>5.100000</td>\n",
       "      <td>2.800000</td>\n",
       "      <td>1.600000</td>\n",
       "      <td>0.300000</td>\n",
       "    </tr>\n",
       "    <tr>\n",
       "      <th>50%</th>\n",
       "      <td>5.800000</td>\n",
       "      <td>3.000000</td>\n",
       "      <td>4.350000</td>\n",
       "      <td>1.300000</td>\n",
       "    </tr>\n",
       "    <tr>\n",
       "      <th>75%</th>\n",
       "      <td>6.400000</td>\n",
       "      <td>3.300000</td>\n",
       "      <td>5.100000</td>\n",
       "      <td>1.800000</td>\n",
       "    </tr>\n",
       "    <tr>\n",
       "      <th>max</th>\n",
       "      <td>7.900000</td>\n",
       "      <td>4.400000</td>\n",
       "      <td>6.900000</td>\n",
       "      <td>2.500000</td>\n",
       "    </tr>\n",
       "  </tbody>\n",
       "</table>\n",
       "</div>"
      ],
      "text/plain": [
       "               SL          SW          PL          PW\n",
       "count  143.000000  144.000000  144.000000  150.000000\n",
       "mean     5.855944    3.049306    3.756250    1.198667\n",
       "std      0.828168    0.430644    1.761306    0.763161\n",
       "min      4.300000    2.000000    1.000000    0.100000\n",
       "25%      5.100000    2.800000    1.600000    0.300000\n",
       "50%      5.800000    3.000000    4.350000    1.300000\n",
       "75%      6.400000    3.300000    5.100000    1.800000\n",
       "max      7.900000    4.400000    6.900000    2.500000"
      ]
     },
     "execution_count": 5,
     "metadata": {},
     "output_type": "execute_result"
    }
   ],
   "source": [
    "iris.describe()"
   ]
  },
  {
   "cell_type": "markdown",
   "id": "222f5cb9",
   "metadata": {},
   "source": [
    "### C) Filling all the missing values present in the dataset"
   ]
  },
  {
   "cell_type": "markdown",
   "id": "5e18a189",
   "metadata": {},
   "source": [
    "#### C_1 : Checking Datatypes"
   ]
  },
  {
   "cell_type": "code",
   "execution_count": 6,
   "id": "3a2b80d2",
   "metadata": {},
   "outputs": [
    {
     "data": {
      "text/plain": [
       "SL                float64\n",
       "SW                float64\n",
       "PL                float64\n",
       "PW                float64\n",
       "Classification     object\n",
       "dtype: object"
      ]
     },
     "execution_count": 6,
     "metadata": {},
     "output_type": "execute_result"
    }
   ],
   "source": [
    "iris.dtypes"
   ]
  },
  {
   "cell_type": "markdown",
   "id": "cec94fe4",
   "metadata": {},
   "source": [
    "#### C_2 : Checking for Null Values"
   ]
  },
  {
   "cell_type": "code",
   "execution_count": 7,
   "id": "4aa244be",
   "metadata": {},
   "outputs": [
    {
     "data": {
      "text/plain": [
       "SL                7\n",
       "SW                6\n",
       "PL                6\n",
       "PW                0\n",
       "Classification    0\n",
       "dtype: int64"
      ]
     },
     "execution_count": 7,
     "metadata": {},
     "output_type": "execute_result"
    }
   ],
   "source": [
    "iris.isnull().sum()"
   ]
  },
  {
   "cell_type": "markdown",
   "id": "e99ed05f",
   "metadata": {},
   "source": [
    "#### C_3 : Ploting histogram of Dataset and filling missing values of all 3 columns(SL,SW,PL)"
   ]
  },
  {
   "cell_type": "code",
   "execution_count": 8,
   "id": "cab88f2a",
   "metadata": {},
   "outputs": [
    {
     "data": {
      "image/png": "[encoded data removed]",
      "text/plain": [
       "<Figure size 432x288 with 4 Axes>"
      ]
     },
     "metadata": {
      "needs_background": "light"
     },
     "output_type": "display_data"
    }
   ],
   "source": [
    "iris.hist()\n",
    "plt.show()"
   ]
  },
  {
   "cell_type": "markdown",
   "id": "e869d690",
   "metadata": {},
   "source": [
    "Since data is skewed missing values can be replaced by Median of respective columns"
   ]
  },
  {
   "cell_type": "code",
   "execution_count": 9,
   "id": "7524ff2c",
   "metadata": {},
   "outputs": [],
   "source": [
    "for i in ['SL','SW','PL']:\n",
    "    iris[i]=iris[i].fillna(iris[i].median())"
   ]
  },
  {
   "cell_type": "code",
   "execution_count": 10,
   "id": "df453058",
   "metadata": {},
   "outputs": [
    {
     "data": {
      "text/plain": [
       "SL                0\n",
       "SW                0\n",
       "PL                0\n",
       "PW                0\n",
       "Classification    0\n",
       "dtype: int64"
      ]
     },
     "execution_count": 10,
     "metadata": {},
     "output_type": "execute_result"
    }
   ],
   "source": [
    "iris.isna().sum()      # Checking for nullvalues again"
   ]
  },
  {
   "cell_type": "markdown",
   "id": "448bc16c",
   "metadata": {},
   "source": [
    "### D) Checking and handling outliers in dataset"
   ]
  },
  {
   "cell_type": "code",
   "execution_count": 11,
   "id": "9f6995e1",
   "metadata": {},
   "outputs": [
    {
     "data": {
      "image/png": "[encoded data removed]",
      "text/plain": [
       "<Figure size 432x432 with 1 Axes>"
      ]
     },
     "metadata": {
      "needs_background": "light"
     },
     "output_type": "display_data"
    }
   ],
   "source": [
    "BoxP = iris.select_dtypes(include=float)\n",
    "BoxP.boxplot(figsize = (6,6))\n",
    "plt.show()"
   ]
  },
  {
   "cell_type": "markdown",
   "id": "bd26e090",
   "metadata": {},
   "source": [
    "Outliers present only in SW column"
   ]
  },
  {
   "cell_type": "markdown",
   "id": "fd773d93",
   "metadata": {},
   "source": [
    "#### D_1 : Handling outliers from - SW"
   ]
  },
  {
   "cell_type": "code",
   "execution_count": 12,
   "id": "e1eec17e",
   "metadata": {},
   "outputs": [
    {
     "name": "stdout",
     "output_type": "stream",
     "text": [
      " Q1  =  2.8 \n",
      " Q3  =  3.25 \n",
      " IQR =  0.45\n",
      "Lower limit =  2.125 \n",
      "Upper limit =  3.925\n"
     ]
    }
   ],
   "source": [
    "# Finding Q!, Q3, IQR, Lower and Upper limits to deteermine outliers\n",
    "\n",
    "# Q1,Q3, IQR\n",
    "Q1 = np.percentile(iris['SW'],25,interpolation='midpoint')\n",
    "Q3 = np.percentile(iris['SW'],75,interpolation='midpoint')\n",
    "IQR = Q3-Q1\n",
    "print(' Q1  = ',Q1,'\\n Q3  = ',Q3, '\\n IQR = ',round(IQR,3))\n",
    "\n",
    "#Outleir limits\n",
    "LL = Q1 - (1.5 * IQR)\n",
    "UL = Q3 + (1.5 * IQR)\n",
    "print('Lower limit = ',round(LL,3),'\\nUpper limit = ',round(UL,3))"
   ]
  },
  {
   "cell_type": "code",
   "execution_count": 13,
   "id": "9b247f3d",
   "metadata": {},
   "outputs": [],
   "source": [
    "#Finding Corresponding indexnumbers\n",
    "ind = iris.loc[(iris['SW']>UL) | (iris['SW']<LL)].index\n",
    "\n",
    "#Removing these index values\n",
    "iris.drop(ind,inplace=True)"
   ]
  },
  {
   "cell_type": "code",
   "execution_count": 14,
   "id": "0892ec0e",
   "metadata": {},
   "outputs": [
    {
     "data": {
      "image/png": "[encoded data removed]",
      "text/plain": [
       "<Figure size 432x288 with 1 Axes>"
      ]
     },
     "metadata": {
      "needs_background": "light"
     },
     "output_type": "display_data"
    }
   ],
   "source": [
    "plt.boxplot(iris.SW)\n",
    "plt.show()"
   ]
  },
  {
   "cell_type": "markdown",
   "id": "6df8296c",
   "metadata": {},
   "source": [
    "### E) Normalizing dataset w.r.t Classification"
   ]
  },
  {
   "cell_type": "code",
   "execution_count": 15,
   "id": "62abf658",
   "metadata": {},
   "outputs": [],
   "source": [
    "y = iris.Classification\n",
    "x = iris.drop(['Classification'],axis=1)"
   ]
  },
  {
   "cell_type": "code",
   "execution_count": 16,
   "id": "35e64d7e",
   "metadata": {},
   "outputs": [
    {
     "data": {
      "image/png": "[encoded data removed]",
      "text/plain": [
       "<Figure size 432x288 with 4 Axes>"
      ]
     },
     "metadata": {
      "needs_background": "light"
     },
     "output_type": "display_data"
    }
   ],
   "source": [
    "x.hist()\n",
    "plt.show()"
   ]
  },
  {
   "cell_type": "code",
   "execution_count": 17,
   "id": "ee8ac519",
   "metadata": {},
   "outputs": [],
   "source": [
    "from sklearn import preprocessing\n",
    "x = preprocessing.normalize(x)\n",
    "x = pd.DataFrame(x)"
   ]
  },
  {
   "cell_type": "code",
   "execution_count": 18,
   "id": "0d8e0aef",
   "metadata": {},
   "outputs": [
    {
     "data": {
      "image/png": "[encoded data removed]",
      "text/plain": [
       "<Figure size 432x288 with 4 Axes>"
      ]
     },
     "metadata": {
      "needs_background": "light"
     },
     "output_type": "display_data"
    }
   ],
   "source": [
    "x.hist()\n",
    "plt.show()"
   ]
  },
  {
   "cell_type": "markdown",
   "id": "969b9c77",
   "metadata": {},
   "source": [
    "## Q3 : Find out which classification model gives the best result to predict iris species. (also do random forest algorithm) "
   ]
  },
  {
   "cell_type": "markdown",
   "id": "abe8a232",
   "metadata": {},
   "source": [
    "### Parting dataset in to Test and Train and importing necessery libraries"
   ]
  },
  {
   "cell_type": "code",
   "execution_count": 19,
   "id": "9ceb1e14",
   "metadata": {},
   "outputs": [],
   "source": [
    "from sklearn.model_selection import train_test_split\n",
    "x_train,x_test,y_train,y_test=train_test_split(x,y,random_state=42,test_size=0.2)\n",
    "\n",
    "from sklearn.metrics import accuracy_score,confusion_matrix,classification_report"
   ]
  },
  {
   "cell_type": "markdown",
   "id": "a9f79630",
   "metadata": {},
   "source": [
    "### A) Logistic Regression"
   ]
  },
  {
   "cell_type": "code",
   "execution_count": 20,
   "id": "27aeba4f",
   "metadata": {},
   "outputs": [
    {
     "name": "stdout",
     "output_type": "stream",
     "text": [
      "Accuracy score         =  0.828 \n",
      "\n",
      "Confusion matrix       = \n",
      "\n",
      " [[ 9  0  0]\n",
      " [ 0  4  5]\n",
      " [ 0  0 11]] \n",
      "\n",
      "Classification report  = \n",
      "\n",
      "                  precision    recall  f1-score   support\n",
      "\n",
      "    Iris-setosa       1.00      1.00      1.00         9\n",
      "Iris-versicolor       1.00      0.44      0.62         9\n",
      " Iris-virginica       0.69      1.00      0.81        11\n",
      "\n",
      "       accuracy                           0.83        29\n",
      "      macro avg       0.90      0.81      0.81        29\n",
      "   weighted avg       0.88      0.83      0.81        29\n",
      "\n"
     ]
    }
   ],
   "source": [
    "from sklearn.linear_model import LogisticRegression \n",
    "\n",
    "LR = LogisticRegression()\n",
    "LR.fit(x_train,y_train)\n",
    "y_pred = LR.predict(x_test)\n",
    "\n",
    "print('Accuracy score         = ',round(accuracy_score(y_test,y_pred),3),'\\n\\nConfusion matrix       = \\n\\n',confusion_matrix(y_test,y_pred),'\\n\\nClassification report  = \\n\\n',classification_report(y_test,y_pred))"
   ]
  },
  {
   "cell_type": "markdown",
   "id": "e8414b45",
   "metadata": {},
   "source": [
    "### B) SVM - Support Vector Machine"
   ]
  },
  {
   "cell_type": "code",
   "execution_count": 21,
   "id": "7cd30ed2",
   "metadata": {},
   "outputs": [
    {
     "name": "stdout",
     "output_type": "stream",
     "text": [
      "Accuracy score         =  0.966 \n",
      "\n",
      "Confusion matrix       = \n",
      "\n",
      " [[ 9  0  0]\n",
      " [ 0  8  1]\n",
      " [ 0  0 11]] \n",
      "\n",
      "Classification report  = \n",
      "\n",
      "                  precision    recall  f1-score   support\n",
      "\n",
      "    Iris-setosa       1.00      1.00      1.00         9\n",
      "Iris-versicolor       1.00      0.89      0.94         9\n",
      " Iris-virginica       0.92      1.00      0.96        11\n",
      "\n",
      "       accuracy                           0.97        29\n",
      "      macro avg       0.97      0.96      0.97        29\n",
      "   weighted avg       0.97      0.97      0.97        29\n",
      "\n"
     ]
    }
   ],
   "source": [
    "from sklearn.svm import SVC\n",
    "\n",
    "svm = SVC(kernel='rbf')\n",
    "svm.fit(x_train,y_train)\n",
    "y_pred = svm.predict(x_test)\n",
    "\n",
    "print('Accuracy score         = ',round(accuracy_score(y_test,y_pred),3),'\\n\\nConfusion matrix       = \\n\\n',confusion_matrix(y_test,y_pred),'\\n\\nClassification report  = \\n\\n',classification_report(y_test,y_pred))"
   ]
  },
  {
   "cell_type": "markdown",
   "id": "aa00cb8d",
   "metadata": {},
   "source": [
    "### C) Decision Tree"
   ]
  },
  {
   "cell_type": "code",
   "execution_count": 22,
   "id": "4f4a2ddb",
   "metadata": {},
   "outputs": [
    {
     "name": "stdout",
     "output_type": "stream",
     "text": [
      "Accuracy score         =  0.931 \n",
      "\n",
      "Confusion matrix       = \n",
      "\n",
      " [[ 9  0  0]\n",
      " [ 0  7  2]\n",
      " [ 0  0 11]] \n",
      "\n",
      "Classification report  = \n",
      "\n",
      "                  precision    recall  f1-score   support\n",
      "\n",
      "    Iris-setosa       1.00      1.00      1.00         9\n",
      "Iris-versicolor       1.00      0.78      0.88         9\n",
      " Iris-virginica       0.85      1.00      0.92        11\n",
      "\n",
      "       accuracy                           0.93        29\n",
      "      macro avg       0.95      0.93      0.93        29\n",
      "   weighted avg       0.94      0.93      0.93        29\n",
      "\n"
     ]
    }
   ],
   "source": [
    "from sklearn.tree import DecisionTreeClassifier\n",
    "\n",
    "DT = DecisionTreeClassifier()\n",
    "DT.fit(x_train,y_train)\n",
    "y_pred = DT.predict(x_test)\n",
    "\n",
    "print('Accuracy score         = ',round(accuracy_score(y_test,y_pred),3),'\\n\\nConfusion matrix       = \\n\\n',confusion_matrix(y_test,y_pred),'\\n\\nClassification report  = \\n\\n',classification_report(y_test,y_pred))"
   ]
  },
  {
   "cell_type": "markdown",
   "id": "a0432632",
   "metadata": {},
   "source": [
    "### D) KNN - K Nearest Neighbors"
   ]
  },
  {
   "cell_type": "code",
   "execution_count": 23,
   "id": "08ba5aaf",
   "metadata": {},
   "outputs": [
    {
     "data": {
      "image/png": "[encoded data removed]",
      "text/plain": [
       "<Figure size 504x504 with 1 Axes>"
      ]
     },
     "metadata": {
      "needs_background": "light"
     },
     "output_type": "display_data"
    }
   ],
   "source": [
    "from sklearn.neighbors import KNeighborsClassifier\n",
    "\n",
    "#Optimum K-value Finding\n",
    "\n",
    "Lis1 = []\n",
    "N = np.arange(1,19)\n",
    "for k in N:\n",
    "    Mink = KNeighborsClassifier(n_neighbors=k,metric='minkowski')\n",
    "    Mink.fit(x_train,y_train)\n",
    "    y_pred = Mink.predict(x_test)\n",
    "    a = accuracy_score(y_pred,y_test)\n",
    "    Lis1.append(a)\n",
    "    \n",
    "plt.figure(figsize=(7,7))\n",
    "plt.plot(np.arange(1,19),Lis1)\n",
    "plt.show()"
   ]
  },
  {
   "cell_type": "markdown",
   "id": "569da5c8",
   "metadata": {},
   "source": [
    "we will take k = 17 as optimum value"
   ]
  },
  {
   "cell_type": "code",
   "execution_count": 24,
   "id": "6d7b24b5",
   "metadata": {},
   "outputs": [
    {
     "name": "stdout",
     "output_type": "stream",
     "text": [
      "Accuracy score         =  0.966 \n",
      "\n",
      "Confusion matrix       = \n",
      "\n",
      " [[ 9  0  0]\n",
      " [ 0  8  1]\n",
      " [ 0  0 11]] \n",
      "\n",
      "Classification report  = \n",
      "\n",
      "                  precision    recall  f1-score   support\n",
      "\n",
      "    Iris-setosa       1.00      1.00      1.00         9\n",
      "Iris-versicolor       1.00      0.89      0.94         9\n",
      " Iris-virginica       0.92      1.00      0.96        11\n",
      "\n",
      "       accuracy                           0.97        29\n",
      "      macro avg       0.97      0.96      0.97        29\n",
      "   weighted avg       0.97      0.97      0.97        29\n",
      "\n"
     ]
    }
   ],
   "source": [
    "Mink = KNeighborsClassifier(n_neighbors=17,metric='minkowski')\n",
    "Mink.fit(x_train,y_train)\n",
    "y_pred = Mink.predict(x_test)\n",
    "\n",
    "print('Accuracy score         = ',round(accuracy_score(y_test,y_pred),3),'\\n\\nConfusion matrix       = \\n\\n',confusion_matrix(y_test,y_pred),'\\n\\nClassification report  = \\n\\n',classification_report(y_test,y_pred))"
   ]
  },
  {
   "cell_type": "markdown",
   "id": "f389a5db",
   "metadata": {},
   "source": [
    "### E) Random Forest"
   ]
  },
  {
   "cell_type": "code",
   "execution_count": 25,
   "id": "5c235a24",
   "metadata": {},
   "outputs": [
    {
     "name": "stdout",
     "output_type": "stream",
     "text": [
      "Accuracy score         =  0.966 \n",
      "\n",
      "Confusion matrix       = \n",
      "\n",
      " [[ 9  0  0]\n",
      " [ 0  8  1]\n",
      " [ 0  0 11]] \n",
      "\n",
      "Classification report  = \n",
      "\n",
      "                  precision    recall  f1-score   support\n",
      "\n",
      "    Iris-setosa       1.00      1.00      1.00         9\n",
      "Iris-versicolor       1.00      0.89      0.94         9\n",
      " Iris-virginica       0.92      1.00      0.96        11\n",
      "\n",
      "       accuracy                           0.97        29\n",
      "      macro avg       0.97      0.96      0.97        29\n",
      "   weighted avg       0.97      0.97      0.97        29\n",
      "\n"
     ]
    }
   ],
   "source": [
    "from sklearn.ensemble import RandomForestClassifier\n",
    "\n",
    "RF = RandomForestClassifier()\n",
    "RF.fit(x_train,y_train)\n",
    "y_pred = RF.predict(x_test)\n",
    "\n",
    "print('Accuracy score         = ',round(accuracy_score(y_test,y_pred),3),'\\n\\nConfusion matrix       = \\n\\n',confusion_matrix(y_test,y_pred),'\\n\\nClassification report  = \\n\\n',classification_report(y_test,y_pred))"
   ]
  },
  {
   "cell_type": "markdown",
   "id": "3ba1127b",
   "metadata": {},
   "source": [
    "##### SVM, KNN, Random Forest models show high accuracy"
   ]
  }
 ],
 "metadata": {
  "kernelspec": {
   "display_name": "Python 3",
   "language": "python",
   "name": "python3"
  },
  "language_info": {
   "codemirror_mode": {
    "name": "ipython",
    "version": 3
   },
   "file_extension": ".py",
   "mimetype": "text/x-python",
   "name": "python",
   "nbconvert_exporter": "python",
   "pygments_lexer": "ipython3",
   "version": "3.8.8"
  }
 },
 "nbformat": 4,
 "nbformat_minor": 5
}

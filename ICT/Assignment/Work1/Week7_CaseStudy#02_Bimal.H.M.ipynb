{
 "cells": [
  {
   "cell_type": "markdown",
   "id": "a6b400e5",
   "metadata": {},
   "source": [
    "# Week 7 : Case Study 3 - Bimal H M"
   ]
  },
  {
   "cell_type": "markdown",
   "id": "88dafdc5",
   "metadata": {},
   "source": [
    "## Python Analysis on Add_Sales Dataset"
   ]
  },
  {
   "cell_type": "markdown",
   "id": "3beef71f",
   "metadata": {},
   "source": [
    "### STEP 1 : Importing all Necessary Libraries in to Notebook"
   ]
  },
  {
   "cell_type": "code",
   "execution_count": 1,
   "id": "5b3664e9",
   "metadata": {},
   "outputs": [],
   "source": [
    "import pandas as pd\n",
    "import numpy as np\n",
    "import matplotlib.pyplot as plt\n",
    "import seaborn as sns"
   ]
  },
  {
   "cell_type": "markdown",
   "id": "973f1f0e",
   "metadata": {},
   "source": [
    "### STEP 2 : Reading the Dataset in to Notebook"
   ]
  },
  {
   "cell_type": "code",
   "execution_count": 2,
   "id": "f264f663",
   "metadata": {},
   "outputs": [],
   "source": [
    "data = pd.read_csv('Add_sales_data_2018.csv')"
   ]
  },
  {
   "cell_type": "markdown",
   "id": "ca92f009",
   "metadata": {},
   "source": [
    "### STEP 3 : Displaying the Dataset"
   ]
  },
  {
   "cell_type": "markdown",
   "id": "a53e3529",
   "metadata": {},
   "source": [
    "#### A) Displaying Dataset Info"
   ]
  },
  {
   "cell_type": "code",
   "execution_count": 3,
   "id": "d31e63cb",
   "metadata": {},
   "outputs": [
    {
     "name": "stdout",
     "output_type": "stream",
     "text": [
      "<class 'pandas.core.frame.DataFrame'>\n",
      "RangeIndex: 205 entries, 0 to 204\n",
      "Data columns (total 7 columns):\n",
      " #   Column                Non-Null Count  Dtype  \n",
      "---  ------                --------------  -----  \n",
      " 0   Date                  205 non-null    object \n",
      " 1   Add1(in Thousands)    205 non-null    float64\n",
      " 2   Add2(in Thousands)    205 non-null    float64\n",
      " 3   Add3(in Thousands)    205 non-null    float64\n",
      " 4   Add4(in Thousands)    205 non-null    float64\n",
      " 5   Add5(in Thousands)    205 non-null    float64\n",
      " 6   Profit(in Thousands)  205 non-null    float64\n",
      "dtypes: float64(6), object(1)\n",
      "memory usage: 11.3+ KB\n"
     ]
    }
   ],
   "source": [
    "data.info()"
   ]
  },
  {
   "cell_type": "markdown",
   "id": "715af42e",
   "metadata": {},
   "source": [
    "#### B) Displaying First few Rows"
   ]
  },
  {
   "cell_type": "code",
   "execution_count": 4,
   "id": "54db52c2",
   "metadata": {},
   "outputs": [
    {
     "data": {
      "text/html": [
       "<div>\n",
       "<style scoped>\n",
       "    .dataframe tbody tr th:only-of-type {\n",
       "        vertical-align: middle;\n",
       "    }\n",
       "\n",
       "    .dataframe tbody tr th {\n",
       "        vertical-align: top;\n",
       "    }\n",
       "\n",
       "    .dataframe thead th {\n",
       "        text-align: right;\n",
       "    }\n",
       "</style>\n",
       "<table border=\"1\" class=\"dataframe\">\n",
       "  <thead>\n",
       "    <tr style=\"text-align: right;\">\n",
       "      <th></th>\n",
       "      <th>Date</th>\n",
       "      <th>Add1(in Thousands)</th>\n",
       "      <th>Add2(in Thousands)</th>\n",
       "      <th>Add3(in Thousands)</th>\n",
       "      <th>Add4(in Thousands)</th>\n",
       "      <th>Add5(in Thousands)</th>\n",
       "      <th>Profit(in Thousands)</th>\n",
       "    </tr>\n",
       "  </thead>\n",
       "  <tbody>\n",
       "    <tr>\n",
       "      <th>0</th>\n",
       "      <td>2018-10-08</td>\n",
       "      <td>208.00</td>\n",
       "      <td>222.25</td>\n",
       "      <td>206.85</td>\n",
       "      <td>216.00</td>\n",
       "      <td>215.15</td>\n",
       "      <td>4093.065</td>\n",
       "    </tr>\n",
       "    <tr>\n",
       "      <th>1</th>\n",
       "      <td>2018-10-05</td>\n",
       "      <td>217.00</td>\n",
       "      <td>218.60</td>\n",
       "      <td>205.90</td>\n",
       "      <td>210.25</td>\n",
       "      <td>209.20</td>\n",
       "      <td>4042.448</td>\n",
       "    </tr>\n",
       "    <tr>\n",
       "      <th>2</th>\n",
       "      <td>2018-10-04</td>\n",
       "      <td>223.50</td>\n",
       "      <td>227.80</td>\n",
       "      <td>216.15</td>\n",
       "      <td>217.25</td>\n",
       "      <td>218.20</td>\n",
       "      <td>4213.819</td>\n",
       "    </tr>\n",
       "    <tr>\n",
       "      <th>3</th>\n",
       "      <td>2018-10-03</td>\n",
       "      <td>230.00</td>\n",
       "      <td>237.50</td>\n",
       "      <td>225.75</td>\n",
       "      <td>226.45</td>\n",
       "      <td>227.60</td>\n",
       "      <td>4391.665</td>\n",
       "    </tr>\n",
       "    <tr>\n",
       "      <th>4</th>\n",
       "      <td>2018-10-01</td>\n",
       "      <td>234.55</td>\n",
       "      <td>234.60</td>\n",
       "      <td>221.05</td>\n",
       "      <td>230.30</td>\n",
       "      <td>230.90</td>\n",
       "      <td>4350.683</td>\n",
       "    </tr>\n",
       "  </tbody>\n",
       "</table>\n",
       "</div>"
      ],
      "text/plain": [
       "         Date  Add1(in Thousands)  Add2(in Thousands)  Add3(in Thousands)  \\\n",
       "0  2018-10-08              208.00              222.25              206.85   \n",
       "1  2018-10-05              217.00              218.60              205.90   \n",
       "2  2018-10-04              223.50              227.80              216.15   \n",
       "3  2018-10-03              230.00              237.50              225.75   \n",
       "4  2018-10-01              234.55              234.60              221.05   \n",
       "\n",
       "   Add4(in Thousands)  Add5(in Thousands)  Profit(in Thousands)  \n",
       "0              216.00              215.15              4093.065  \n",
       "1              210.25              209.20              4042.448  \n",
       "2              217.25              218.20              4213.819  \n",
       "3              226.45              227.60              4391.665  \n",
       "4              230.30              230.90              4350.683  "
      ]
     },
     "execution_count": 4,
     "metadata": {},
     "output_type": "execute_result"
    }
   ],
   "source": [
    "data.head()"
   ]
  },
  {
   "cell_type": "markdown",
   "id": "ab3289bf",
   "metadata": {},
   "source": [
    "### Q1 : First of all, check whether there is any relationship between the amount spent for advertising through five different companies and profit generated."
   ]
  },
  {
   "cell_type": "markdown",
   "id": "c0beae28",
   "metadata": {},
   "source": [
    "#### A) Direct Calculation of Correlation."
   ]
  },
  {
   "cell_type": "code",
   "execution_count": 5,
   "id": "d8831f10",
   "metadata": {},
   "outputs": [
    {
     "data": {
      "text/plain": [
       "Add1(in Thousands)      0.991975\n",
       "Add2(in Thousands)      0.999145\n",
       "Add3(in Thousands)      0.993389\n",
       "Add4(in Thousands)      0.993346\n",
       "Add5(in Thousands)      0.993710\n",
       "Profit(in Thousands)    1.000000\n",
       "Name: Profit(in Thousands), dtype: float64"
      ]
     },
     "execution_count": 5,
     "metadata": {},
     "output_type": "execute_result"
    }
   ],
   "source": [
    "data.corr(method ='pearson')['Profit(in Thousands)']"
   ]
  },
  {
   "cell_type": "markdown",
   "id": "ab1e4663",
   "metadata": {},
   "source": [
    "#### B) Through Heatmap"
   ]
  },
  {
   "cell_type": "code",
   "execution_count": 6,
   "id": "a4e95678",
   "metadata": {},
   "outputs": [
    {
     "data": {
      "image/png": "[encoded data removed]",
      "text/plain": [
       "<Figure size 432x288 with 2 Axes>"
      ]
     },
     "metadata": {
      "needs_background": "light"
     },
     "output_type": "display_data"
    }
   ],
   "source": [
    "HM = sns.heatmap(data.corr(),vmin = 0.9900, vmax = 0.9999,annot = True)\n",
    "HM.set_title(\"Correlation of Dataset\",y = 1.01)\n",
    "plt.show()"
   ]
  },
  {
   "cell_type": "markdown",
   "id": "c2599201",
   "metadata": {},
   "source": [
    "##### From Heatmap it is clear that there is a Strong Positive Correlation between between the amount spent for advertising through five different companies and profit generated"
   ]
  },
  {
   "cell_type": "markdown",
   "id": "7291f264",
   "metadata": {},
   "source": [
    "### Q2 : Build a regression model to predict the profit from the given data and comment your findings on it."
   ]
  },
  {
   "cell_type": "markdown",
   "id": "e619841d",
   "metadata": {},
   "source": [
    "##### From heat map it is clear that Add2 and Profit have Strong Positive correlation and Add4 and Add 5 have Strong Posivite correlation, so we can remove Add2 and Add 5."
   ]
  },
  {
   "cell_type": "code",
   "execution_count": 7,
   "id": "ba21060b",
   "metadata": {},
   "outputs": [
    {
     "data": {
      "text/plain": [
       "Index(['Date', 'Add1(in Thousands)', 'Add2(in Thousands)',\n",
       "       'Add3(in Thousands)', 'Add4(in Thousands)', 'Add5(in Thousands)',\n",
       "       'Profit(in Thousands)'],\n",
       "      dtype='object')"
      ]
     },
     "execution_count": 7,
     "metadata": {},
     "output_type": "execute_result"
    }
   ],
   "source": [
    "data.columns"
   ]
  },
  {
   "cell_type": "code",
   "execution_count": 8,
   "id": "bed692f4",
   "metadata": {},
   "outputs": [],
   "source": [
    "data1 = data.drop(['Add2(in Thousands)','Add5(in Thousands)','Date'],axis = 1)"
   ]
  },
  {
   "cell_type": "code",
   "execution_count": 9,
   "id": "fdaafbcd",
   "metadata": {},
   "outputs": [
    {
     "data": {
      "text/plain": [
       "Index(['Add1(in Thousands)', 'Add3(in Thousands)', 'Add4(in Thousands)',\n",
       "       'Profit(in Thousands)'],\n",
       "      dtype='object')"
      ]
     },
     "execution_count": 9,
     "metadata": {},
     "output_type": "execute_result"
    }
   ],
   "source": [
    "data1.columns"
   ]
  },
  {
   "cell_type": "code",
   "execution_count": 10,
   "id": "582d704a",
   "metadata": {},
   "outputs": [],
   "source": [
    "y = data1['Profit(in Thousands)']\n",
    "x = data1.drop(['Profit(in Thousands)'],axis = 1)"
   ]
  },
  {
   "cell_type": "code",
   "execution_count": 11,
   "id": "09832aaf",
   "metadata": {},
   "outputs": [
    {
     "data": {
      "text/plain": [
       "(205, 3)"
      ]
     },
     "execution_count": 11,
     "metadata": {},
     "output_type": "execute_result"
    }
   ],
   "source": [
    "x.shape"
   ]
  },
  {
   "cell_type": "code",
   "execution_count": 12,
   "id": "ac99c22e",
   "metadata": {},
   "outputs": [],
   "source": [
    "from sklearn.model_selection import train_test_split\n",
    "x_train,x_test,y_train,y_test=train_test_split(x,y,random_state=26,test_size=.2)"
   ]
  },
  {
   "cell_type": "code",
   "execution_count": 13,
   "id": "6520913a",
   "metadata": {},
   "outputs": [],
   "source": [
    "from sklearn.linear_model import LinearRegression\n",
    "lr=LinearRegression()"
   ]
  },
  {
   "cell_type": "code",
   "execution_count": 14,
   "id": "dbd7a583",
   "metadata": {},
   "outputs": [],
   "source": [
    "model = lr.fit(x_train,y_train)"
   ]
  },
  {
   "cell_type": "code",
   "execution_count": 15,
   "id": "cbeddb6c",
   "metadata": {},
   "outputs": [],
   "source": [
    "y_pred = model.predict(x_test)"
   ]
  },
  {
   "cell_type": "code",
   "execution_count": 16,
   "id": "5405b386",
   "metadata": {},
   "outputs": [
    {
     "name": "stdout",
     "output_type": "stream",
     "text": [
      "71     4916.064\n",
      "25     4436.321\n",
      "60     5145.131\n",
      "108    5580.775\n",
      "124    5244.097\n",
      "111    5491.792\n",
      "34     4461.325\n",
      "87     5058.140\n",
      "90     4887.296\n",
      "190    5917.925\n",
      "155    5078.636\n",
      "164    4997.719\n",
      "167    5465.277\n",
      "107    5452.280\n",
      "80     5043.705\n",
      "172    5789.791\n",
      "189    5938.474\n",
      "131    4968.030\n",
      "42     4432.864\n",
      "125    5153.977\n",
      "21     4390.996\n",
      "30     4598.292\n",
      "141    5245.324\n",
      "201    5439.655\n",
      "138    5247.011\n",
      "93     4705.198\n",
      "129    5140.372\n",
      "153    5019.997\n",
      "67     5001.615\n",
      "137    5051.755\n",
      "66     5038.222\n",
      "50     4548.110\n",
      "109    5577.150\n",
      "1      4042.448\n",
      "88     4937.030\n",
      "26     4451.999\n",
      "122    5167.878\n",
      "20     4178.008\n",
      "187    5890.012\n",
      "191    5780.799\n",
      "116    5395.217\n",
      "Name: Profit(in Thousands), dtype: float64\n"
     ]
    }
   ],
   "source": [
    "print(y_test)"
   ]
  },
  {
   "cell_type": "code",
   "execution_count": 17,
   "id": "c0a97b64",
   "metadata": {},
   "outputs": [
    {
     "name": "stdout",
     "output_type": "stream",
     "text": [
      "[4922.03495982 4438.41477729 5143.78329855 5575.43855864 5218.29192588\n",
      " 5514.6122738  4479.75618619 5071.62709738 4881.41825175 5894.22473099\n",
      " 5028.43868364 4970.43374367 5477.48600223 5470.28775933 5003.53893939\n",
      " 5756.49375536 5955.71310511 4996.36062967 4433.88757001 5177.19988019\n",
      " 4371.94520691 4619.41081506 5259.30648546 5429.91091063 5228.87825099\n",
      " 4704.4509999  5084.75695906 5003.05795514 4997.72498554 5039.87786207\n",
      " 5035.2597218  4568.81636125 5591.57352599 4054.80515787 4923.26773668\n",
      " 4453.58416335 5199.86569218 4214.56087217 5879.59683949 5790.9189313\n",
      " 5401.91092609]\n"
     ]
    }
   ],
   "source": [
    "print(y_pred)"
   ]
  },
  {
   "cell_type": "code",
   "execution_count": 18,
   "id": "39986fb2",
   "metadata": {},
   "outputs": [],
   "source": [
    "from sklearn.metrics import mean_squared_error"
   ]
  },
  {
   "cell_type": "code",
   "execution_count": 19,
   "id": "77ae316b",
   "metadata": {},
   "outputs": [
    {
     "name": "stdout",
     "output_type": "stream",
     "text": [
      "MES is :  464.50598116483053\n"
     ]
    }
   ],
   "source": [
    "print('MES is : ',mean_squared_error(y_test,y_pred))"
   ]
  },
  {
   "cell_type": "markdown",
   "id": "4800b106",
   "metadata": {},
   "source": [
    "### Q3 : Predict the profit generated by the company, if they wish to spend the following amount for advertisement."
   ]
  },
  {
   "cell_type": "code",
   "execution_count": 20,
   "id": "c1c3b458",
   "metadata": {},
   "outputs": [],
   "source": [
    "row=[290,309,298]\n",
    "rowpredict=lr.predict([row])"
   ]
  },
  {
   "cell_type": "code",
   "execution_count": 21,
   "id": "d3f87328",
   "metadata": {},
   "outputs": [
    {
     "data": {
      "text/plain": [
       "array([5560.64808635])"
      ]
     },
     "execution_count": 21,
     "metadata": {},
     "output_type": "execute_result"
    }
   ],
   "source": [
    "rowpredict"
   ]
  },
  {
   "cell_type": "markdown",
   "id": "cf78a054",
   "metadata": {},
   "source": [
    "##### 5560.648 can be 25% greater than or less than the actual value As Predict Value is 25%(MSE)+ or -original value"
   ]
  }
 ],
 "metadata": {
  "kernelspec": {
   "display_name": "Python 3",
   "language": "python",
   "name": "python3"
  },
  "language_info": {
   "codemirror_mode": {
    "name": "ipython",
    "version": 3
   },
   "file_extension": ".py",
   "mimetype": "text/x-python",
   "name": "python",
   "nbconvert_exporter": "python",
   "pygments_lexer": "ipython3",
   "version": "3.8.8"
  }
 },
 "nbformat": 4,
 "nbformat_minor": 5
}
